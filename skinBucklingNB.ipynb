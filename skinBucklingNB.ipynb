{
 "cells": [
  {
   "cell_type": "code",
   "execution_count": 1,
   "metadata": {},
   "outputs": [],
   "source": [
    "import numpy as np\n",
    "from stringer import *"
   ]
  },
  {
   "cell_type": "code",
   "execution_count": 3,
   "metadata": {},
   "outputs": [],
   "source": [
    "class SkinPanel:\n",
    "    '''Defines skin panel of length a in the spanwise direction, width b in the chordwise and thickness t'''\n",
    "    k_c = 7\n",
    "    E = 72.4 * 10**9 #[Pa]\n",
    "    nu = 0.33\n",
    "\n",
    "    def __init__(self,a,b,t,sigma):\n",
    "        self.a = a\n",
    "        self.b = b\n",
    "        self.t = t\n",
    "        self.sigma = sigma # max compressible stress applied\n",
    "    \n",
    "    def criticalStress(self):\n",
    "        stress = np.pi**2 * k_c * E / (12 * (1 - nu**2)) * (self.t / self.b)**2\n",
    "        return stress\n",
    "    \n",
    "    def marginOfSafety(self):\n",
    "        margin = self.criticalStress()/self.sigma\n",
    "        return margin"
   ]
  },
  {
   "cell_type": "code",
   "execution_count": null,
   "metadata": {},
   "outputs": [],
   "source": [
    "# calculate margin of safety for all skin panels\n",
    "def marginOfSafetyList(stringerPositions, ribPositions, compressiveStressesList, panelThickness):\n",
    "    '''returns a list of margin of safeties for each panel where ribPositions(position of ribs spanwise in [m]), stringerPositions(position of stringers chordwise in [m]), and compressive stresses is a list uniformly distributed along the span'''\n",
    "    list = []\n",
    "    span = ribPositions[-1]\n",
    "    for stringer_index in range(len(stringerPositions) - 1): # go through stringers\n",
    "        b = stringerPositions[stringer_index + 1] - stringerPositions[stringer_index]   \n",
    "\n",
    "        for rib_index in range(len(ribPositions) - 1): # go through ribs\n",
    "            a = ribPositions[rib_index + 1] - ribPositions[rib_index]\n",
    "\n",
    "            applied_stress = compressiveStressesList[ribPositions[rib_index] / span * len(compressiveStressesList)]\n",
    "            panel = SkinPanel(a,b, applied_stress, t=panelThickness)\n",
    "            marginOfSafety = panel.marginOfSafety()\n",
    "            list.append(marginOfSafety)\n",
    "    return marginOfSafetyList"
   ]
  },
  {
   "cell_type": "code",
   "execution_count": null,
   "metadata": {},
   "outputs": [],
   "source": [
    "print(marginOfSafetyList(stringerPositions = [], ribPositions = [], compressiveStressesList = [], panelThickness = 0))"
   ]
  }
 ],
 "metadata": {
  "kernelspec": {
   "display_name": "base",
   "language": "python",
   "name": "python3"
  },
  "language_info": {
   "codemirror_mode": {
    "name": "ipython",
    "version": 3
   },
   "file_extension": ".py",
   "mimetype": "text/x-python",
   "name": "python",
   "nbconvert_exporter": "python",
   "pygments_lexer": "ipython3",
   "version": "3.11.7"
  }
 },
 "nbformat": 4,
 "nbformat_minor": 2
}
